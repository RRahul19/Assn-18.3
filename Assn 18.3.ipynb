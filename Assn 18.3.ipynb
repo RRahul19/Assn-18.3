{
 "cells": [
  {
   "cell_type": "code",
   "execution_count": 1,
   "metadata": {},
   "outputs": [
    {
     "name": "stdout",
     "output_type": "stream",
     "text": [
      "The z-value is: 0.3541\n",
      "z-score for 0.3541 is .1368\n",
      "percentage of test-takers who scored below me = 63.68\n"
     ]
    }
   ],
   "source": [
    "'''Problem Statement 1:\n",
    "\n",
    "You take the SAT and score 1100. The mean score for the SAT is 1026 and the standard\n",
    "deviation is 209. How well did you score on the test compared to the average test taker?'''\n",
    "\n",
    "\n",
    "\n",
    "## Marks  in SAT\n",
    "x = 1100\n",
    "\n",
    "## mean Marks for the SAT\n",
    "μ = 1026 \n",
    "\n",
    "## Standard deviation\n",
    "σ = 209 \n",
    "\n",
    "## Calculate the z-value ##\n",
    "\n",
    "z = (x - μ) / σ\n",
    "z = format(z,'.4f')\n",
    "print(\"The z-value is:\", z)\n",
    "print(\"z-score for\", z, \"is .1368\")\n",
    "print(\"percentage of test-takers who scored below me =\", format(((.1368 + 0.5) * 100), '.2f'))\n"
   ]
  },
  {
   "cell_type": "code",
   "execution_count": null,
   "metadata": {},
   "outputs": [],
   "source": []
  }
 ],
 "metadata": {
  "kernelspec": {
   "display_name": "Python 3",
   "language": "python",
   "name": "python3"
  },
  "language_info": {
   "codemirror_mode": {
    "name": "ipython",
    "version": 3
   },
   "file_extension": ".py",
   "mimetype": "text/x-python",
   "name": "python",
   "nbconvert_exporter": "python",
   "pygments_lexer": "ipython3",
   "version": "3.6.4"
  }
 },
 "nbformat": 4,
 "nbformat_minor": 2
}
